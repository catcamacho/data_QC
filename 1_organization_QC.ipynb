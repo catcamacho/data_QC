{
 "cells": [
  {
   "cell_type": "markdown",
   "metadata": {},
   "source": [
    "# Check MRI Quality\n",
    "\n",
    "Things that need to be adjusted for SEA Lab:\n",
    "* File paths (of course)\n",
    "* Modify to account for multiple runs of a sequence (need to know what that looks like scanner side)\n"
   ]
  },
  {
   "cell_type": "code",
   "execution_count": 20,
   "metadata": {},
   "outputs": [],
   "source": [
    "# Participant-specific information\n",
    "subject_id = '999'\n",
    "\n",
    "mri_location = '/Users/catcamacho/Box/Vandy-Stanford MR comparison/Vanderbilt/'\n",
    "raw_data_locations = {'rest0': mri_location + subject_id + '/NIFTI/*rsEPI-PE0_MB6R1_*.PAR', \n",
    "                      'rest1': mri_location + subject_id + '/NIFTI/*rsEPI-PE1_MB6R1_*.PAR', \n",
    "                      'dwi0': mri_location + subject_id + '/NIFTI/*DWI_MB3R1_pe0*', \n",
    "                      'dwi1': mri_location + subject_id + '/NIFTI/*DWI_MB3R1_pe1*',\n",
    "                      'dwi': mri_location + subject_id + '/NIFTI/*DTI_b700_2000_96dir*',\n",
    "                      'qt1': mri_location + subject_id + '/NIFTI/*qT1*', \n",
    "                      't1w': mri_location + subject_id + '/NIFTI/*AnatBrain_T13D*',\n",
    "                      't2w': mri_location + subject_id + '/NIFTI/*3D_Brain_VIEW_T2*', \n",
    "                      'pcasl_pw': mri_location + subject_id + '/NIFTI/*pCASL_PLD1900_LD1000_REL5FIXED.01_real*', \n",
    "                      'pcasl_m0': mri_location + subject_id + '/NIFTI/*pCASL_REL5FIXED_M0.01*'}\n"
   ]
  },
  {
   "cell_type": "markdown",
   "metadata": {},
   "source": [
    "### Reorganize and rename data to conform to BIDS"
   ]
  },
  {
   "cell_type": "code",
   "execution_count": 22,
   "metadata": {},
   "outputs": [],
   "source": [
    "# Import libraries and set up static study variables\n",
    "import os\n",
    "from glob import glob\n",
    "from subprocess import check_call\n",
    "\n",
    "sequence_list = list(raw_data_locations.keys())\n",
    "\n",
    "# make level 1 folders\n",
    "os.mkdir(mri_location + subject_id + '/anat')\n",
    "os.mkdir(mri_location + subject_id + '/func')\n",
    "os.mkdir(mri_location + subject_id + '/dwi')\n",
    "\n",
    "for sequence in sequence_list:\n",
    "    if 'dwi' in sequence:\n",
    "        dwis0 = glob(raw_data_locations['dwi0'])\n",
    "        for file in dwis0:\n",
    "            filepath, filebasename = os.path.split(file)\n",
    "            filename, fileext = os.path.splitext(filebasename)\n",
    "            os.rename(file, mri_location + subject_id + '/dwi/'+subject_id+'_dwi_pe0'+fileext)\n",
    "        dwis1 = glob(raw_data_locations['dwi1'])\n",
    "        for file in dwis1:\n",
    "            filepath, filebasename = os.path.split(file)\n",
    "            filename, fileext = os.path.splitext(filebasename)\n",
    "            os.rename(file, mri_location + subject_id + '/dwi/'+subject_id+'_dwi_pe1'+fileext)\n",
    "        dwis = glob(raw_data_locations['dwi'])\n",
    "        for file in dwis:\n",
    "            filepath, filebasename = os.path.split(file)\n",
    "            filename, fileext = os.path.splitext(filebasename)\n",
    "            os.rename(file, mri_location + subject_id + '/dwi/'+subject_id+'_dwi_pe0_b2000_b700'+fileext)\n",
    "    elif 'rest' in sequence:\n",
    "        \n",
    "    elif 'pcasl' in sequence:\n",
    "        pws = glob(raw_data_locations['pcasl_pw'])\n",
    "        for file in pws:\n",
    "            filepath, filebasename = os.path.split(file)\n",
    "            filename, fileext = os.path.splitext(filebasename)\n",
    "            os.rename(file, mri_location + subject_id + '/func/'+subject_id+'_pcasl_pw'+fileext)\n",
    "        m0s = glob(raw_data_locations['pcasl_m0'])\n",
    "        for file in m0s:\n",
    "            filepath, filebasename = os.path.split(file)\n",
    "            filename, fileext = os.path.splitext(filebasename)\n",
    "            os.rename(file, mri_location + subject_id + '/func/'+subject_id+'_pcasl_m0'+fileext)\n",
    "    elif sequence=='t1w':\n",
    "        t1ws = glob(raw_data_locations['t1w'])\n",
    "        for file in t1ws:\n",
    "            filepath, filebasename = os.path.split(file)\n",
    "            filename, fileext = os.path.splitext(filebasename)\n",
    "            os.rename(file, mri_location + subject_id + '/anat/'+subject_id+'_T1w'+fileext)\n",
    "    else sequence=='t2w':\n",
    "        t2ws = glob(raw_data_locations['t2w'])\n",
    "        for file in t2ws:\n",
    "            filepath, filebasename = os.path.split(file)\n",
    "            filename, fileext = os.path.splitext(filebasename)\n",
    "            os.rename(file, mri_location + subject_id + '/anat/'+subject_id+'_T2w'+fileext)\n",
    "        \n",
    "# zip up all the niftis to take up less space\n",
    "niftis = glob(mri_location + subject_id + '/*/*.nii')\n",
    "for nii in niftis:\n",
    "    check_call(['gzip',nii]) \n",
    "    \n",
    "# Tar up the extra sequences to take up less space\n",
    "os.rename(mri_location + subject_id +'/NIFTI', mri_location + subject_id +'/misc')\n",
    "os.rename(mri_location + subject_id +'/XMLPARREC', mri_location + subject_id +'/raw')\n",
    "check_call(['tar','-zcvf',mri_location + subject_id +'/misc.tgz',mri_location + subject_id +'/misc'])\n",
    "check_call(['tar','-zcvf',mri_location + subject_id +'/raw.tgz',mri_location + subject_id +'/raw'])"
   ]
  },
  {
   "cell_type": "markdown",
   "metadata": {},
   "source": [
    "## Produce QC Report\n",
    "This section does the following:\n",
    "* Create motion summaries for rest and DTI\n",
    "* Print slice montages for each main sequence\n",
    "* create histograms for ASL and qT1 values"
   ]
  },
  {
   "cell_type": "code",
   "execution_count": null,
   "metadata": {},
   "outputs": [],
   "source": []
  }
 ],
 "metadata": {
  "kernelspec": {
   "display_name": "Python 3",
   "language": "python",
   "name": "python3"
  },
  "language_info": {
   "codemirror_mode": {
    "name": "ipython",
    "version": 3
   },
   "file_extension": ".py",
   "mimetype": "text/x-python",
   "name": "python",
   "nbconvert_exporter": "python",
   "pygments_lexer": "ipython3",
   "version": "3.6.3"
  }
 },
 "nbformat": 4,
 "nbformat_minor": 2
}
