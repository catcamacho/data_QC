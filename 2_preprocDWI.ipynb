{
 "cells": [
  {
   "cell_type": "markdown",
   "metadata": {},
   "source": [
    "## DWI Processing"
   ]
  },
  {
   "cell_type": "code",
   "execution_count": null,
   "metadata": {},
   "outputs": [],
   "source": [
    "from nipype.interfaces.io import DataSink, SelectFiles, DataGrabber # Data i/o\n",
    "from nipype.interfaces.utility import IdentityInterface, Function     # utility\n",
    "from nipype.pipeline.engine import Node, Workflow, MapNode, JoinNode        # pypeline engine\n",
    "from nipype.interfaces.nipy.preprocess import Trim\n",
    "from nipype.interfaces.fsl.epi import ApplyTOPUP, TOPUP, Eddy\n",
    "from nipype.interfaces.fsl.dti import DTIFit\n",
    "from nipype.interfaces.fsl.utils import Merge\n",
    "from nipype.interfaces.freesurfer import Binarize\n",
    "from pandas import DataFrame, Series\n",
    "\n",
    "#set output file type for FSL to NIFTI_GZ\n",
    "from nipype.interfaces.fsl.preprocess import FSLCommand\n",
    "FSLCommand.set_default_output_type('NIFTI_GZ')\n",
    "\n",
    "# Set study variables\n",
    "studyhome = '/Users/catcamacho/Box/SEA/dti_img'\n",
    "raw_dir = studyhome + '/raw'\n",
    "output_dir = studyhome + '/proc'\n",
    "workflow_dir = studyhome + '/workflows'\n",
    "\n",
    "subjects_list = ['Newborn']\n",
    "\n",
    "proc_cores = 2 # number of cores of processing for the workflows\n",
    "acq_file = studyhome + '/misc/acq_params.txt'\n",
    "index_file = studyhome + '/misc/index.txt'"
   ]
  },
  {
   "cell_type": "code",
   "execution_count": null,
   "metadata": {},
   "outputs": [],
   "source": [
    "## File handling Nodes\n",
    "\n",
    "# Identity node- select subjects\n",
    "infosource = Node(IdentityInterface(fields=['subject_id']),\n",
    "                     name='infosource')\n",
    "infosource.iterables = ('subject_id', subjects_list)\n",
    "\n",
    "# Datasink- where our select outputs will go\n",
    "substitutions = [('_subject_id_', '')]\n",
    "datasink = Node(DataSink(), name='datasink')\n",
    "datasink.inputs.base_directory = output_dir\n",
    "datasink.inputs.container = output_dir\n",
    "datasink.inputs.substitutions = substitutions"
   ]
  },
  {
   "cell_type": "markdown",
   "metadata": {},
   "source": [
    "### Unwarping and preprocessing"
   ]
  },
  {
   "cell_type": "code",
   "execution_count": null,
   "metadata": {},
   "outputs": [],
   "source": [
    "## File handling nodes\n",
    "\n",
    "pes_template={'PE_vol': raw_dir + '/%s/dti_pe*.nii.gz'}\n",
    "pes_selectfiles = Node(DataGrabber(sort_filelist=True,\n",
    "                                   template = raw_dir + '/%s/dti_pe*.nii.gz',\n",
    "                                   field_template = pes_template,\n",
    "                                   base_directory=raw_dir,\n",
    "                                   infields=['subject_id'], \n",
    "                                   template_args={'PE_vol':[['subject_id']]}), \n",
    "                       name='pes_selectfiles')\n",
    "\n",
    "dwis_template={'dwi': raw_dir + '/{subject_id}/dti_pe0_ms103.nii.gz',\n",
    "               'bvec': raw_dir + '/{subject_id}/dti_pe0_ms103.bvec', \n",
    "               'bval': raw_dir + '/{subject_id}/dti_pe0_ms103.bval'}\n",
    "dwis_selectfiles = Node(SelectFiles(dwis_template), name='dwis_selectfiles')"
   ]
  },
  {
   "cell_type": "code",
   "execution_count": null,
   "metadata": {},
   "outputs": [],
   "source": [
    "## Unwarping and ME cleaning nodes\n",
    "\n",
    "# include only the first volume of each PE volume\n",
    "trim_PEs = MapNode(Trim(end_index=1),name='trim_PEs',iterfield=['in_file'])\n",
    "\n",
    "# merge to 1 file for topup to calculate the fieldcoef\n",
    "merge_pes = Node(Merge(dimension='t',\n",
    "                       merged_file='merged_pes.nii.gz'),\n",
    "                 name='merge_pes')\n",
    "\n",
    "topup = Node(TOPUP(encoding_file=acq_file), name='topup')\n",
    "\n",
    "make_mask = Node(Binarize(min=10), name='binarize')\n",
    "\n",
    "eddy = Node(Eddy(in_index=index_file, in_acqp=acq_file, method='jac',num_threads=2),name='eddy_correct')\n",
    "\n",
    "fitdti = Node(DTIFit(save_tensor=True), name='fitdti')"
   ]
  },
  {
   "cell_type": "code",
   "execution_count": null,
   "metadata": {},
   "outputs": [],
   "source": [
    "preprocflow = Workflow(name='preprocflow')\n",
    "preprocflow.connect([(infosource,pes_selectfiles, [('subject_id','subject_id')]),\n",
    "                     (infosource,dwis_selectfiles, [('subject_id','subject_id')]),\n",
    "                     (pes_selectfiles, trim_PEs, [('PE_vol','in_file')]), \n",
    "                     (trim_PEs, merge_pes, [('out_file','in_files')]), \n",
    "                     (merge_pes, topup, [('merged_file','in_file')]),\n",
    "                     \n",
    "                     (dwis_selectfiles,make_mask,[('dwi','in_file')]),\n",
    "                     (make_mask, eddy, [('binary_file','in_mask')]),\n",
    "                     \n",
    "                     (topup, eddy, [('out_fieldcoef','in_topup_fieldcoef'),\n",
    "                                    ('out_movpar','in_topup_movpar')]),\n",
    "                     (dwis_selectfiles, eddy, [('bvec','in_bvec'),('bval','in_bval'),('dwi','in_file')]),\n",
    "                     (eddy,fitdti,[('out_corrected','dwi'),('out_rotated_bvecs','bvecs')]),\n",
    "                     (dwis_selectfiles, fitdti, [('bval','bvals')]),\n",
    "                     \n",
    "                     (eddy,datasink, [('out_corrected','unwarped_dwi'),\n",
    "                                      ('out_rotated_bvecs','rotated_bvecs'),\n",
    "                                      ('out_restricted_movement_rms','dwi_restricted_movement_rms'),\n",
    "                                      ('out_cnr_maps','eddy_cnr_maps')]), \n",
    "                     (fitdti, datasink, [('FA','dwi_FA')]),\n",
    "                     (fitdti, datasink, [('L1','dwi_L1')]),\n",
    "                     (fitdti, datasink, [('tensor','dwi_tensor')]),\n",
    "                     (fitdti, datasink, [('MD','dwi_MD')])\n",
    "                    ])\n",
    "\n",
    "preprocflow.base_dir = workflow_dir\n",
    "#preprocflow.write_graph(graph2use='flat')\n",
    "preprocflow.run('MultiProc', plugin_args={'n_procs': 2, 'memory_gb':10})"
   ]
  },
  {
   "cell_type": "code",
   "execution_count": null,
   "metadata": {},
   "outputs": [],
   "source": []
  }
 ],
 "metadata": {
  "kernelspec": {
   "display_name": "Python 3",
   "language": "python",
   "name": "python3"
  },
  "language_info": {
   "codemirror_mode": {
    "name": "ipython",
    "version": 3
   },
   "file_extension": ".py",
   "mimetype": "text/x-python",
   "name": "python",
   "nbconvert_exporter": "python",
   "pygments_lexer": "ipython3",
   "version": "3.7.2"
  }
 },
 "nbformat": 4,
 "nbformat_minor": 2
}
