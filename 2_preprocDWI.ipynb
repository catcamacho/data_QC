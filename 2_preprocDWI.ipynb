{
 "cells": [
  {
   "cell_type": "markdown",
   "metadata": {},
   "source": [
    "## DWI Processing"
   ]
  },
  {
   "cell_type": "code",
   "execution_count": null,
   "metadata": {},
   "outputs": [],
   "source": [
    "from nipype.interfaces.io import DataSink, SelectFiles, DataGrabber # Data i/o\n",
    "from nipype.interfaces.utility import IdentityInterface, Function     # utility\n",
    "from nipype.pipeline.engine import Node, Workflow, MapNode, JoinNode        # pypeline engine\n",
    "from nipype.interfaces.nipy.preprocess import Trim\n",
    "from nipype.interfaces.fsl.epi import ApplyTOPUP, TOPUP, Eddy\n",
    "from nipype.interfaces.fsl.dti import DTIFit\n",
    "from nipype.interfaces.fsl import Merge, FLIRT\n",
    "from nipype.interfaces.freesurfer import Binarize\n",
    "from pandas import DataFrame, Series\n",
    "\n",
    "#set output file type for FSL to NIFTI_GZ\n",
    "from nipype.interfaces.fsl.preprocess import FSLCommand\n",
    "FSLCommand.set_default_output_type('NIFTI_GZ')\n",
    "\n",
    "# Set study variables\n",
    "studyhome = '/Users/catcamacho/Box/SEA'\n",
    "raw_dir = studyhome + '/dti_img/raw'\n",
    "output_dir = studyhome + '/dti_img/proc'\n",
    "workflow_dir = studyhome + '/dti_img/workflows'\n",
    "template = studyhome + '/rest_proc/templates/neonate_T2w_template_2mm.nii.gz'\n",
    "rois = studyhome + '/rest_proc/neonate_seeds/rois.nii.gz'\n",
    "\n",
    "subjects_list = ['Newborn']\n",
    "\n",
    "proc_cores = 2 # number of cores of processing for the workflows\n",
    "acq_file = studyhome + '/dti_img/misc/acq_params.txt'\n",
    "index_file = studyhome + '/dti_img/misc/index.txt'"
   ]
  },
  {
   "cell_type": "code",
   "execution_count": null,
   "metadata": {},
   "outputs": [],
   "source": [
    "## File handling Nodes\n",
    "\n",
    "# Identity node- select subjects\n",
    "infosource = Node(IdentityInterface(fields=['subject_id']),\n",
    "                     name='infosource')\n",
    "infosource.iterables = ('subject_id', subjects_list)\n",
    "\n",
    "# Datasink- where our select outputs will go\n",
    "substitutions = [('_subject_id_', '')]\n",
    "datasink = Node(DataSink(), name='datasink')\n",
    "datasink.inputs.base_directory = output_dir\n",
    "datasink.inputs.container = output_dir\n",
    "datasink.inputs.substitutions = substitutions"
   ]
  },
  {
   "cell_type": "markdown",
   "metadata": {},
   "source": [
    "### Unwarping and preprocessing"
   ]
  },
  {
   "cell_type": "code",
   "execution_count": null,
   "metadata": {},
   "outputs": [],
   "source": [
    "## File handling nodes\n",
    "\n",
    "pes_template={'PE_vol': raw_dir + '/%s/dti_pe*.nii.gz'}\n",
    "pes_selectfiles = Node(DataGrabber(sort_filelist=True,\n",
    "                                   template = raw_dir + '/%s/dti_pe*.nii.gz',\n",
    "                                   field_template = pes_template,\n",
    "                                   base_directory=raw_dir,\n",
    "                                   infields=['subject_id'], \n",
    "                                   template_args={'PE_vol':[['subject_id']]}), \n",
    "                       name='pes_selectfiles')\n",
    "\n",
    "dwis_template={'dwi': raw_dir + '/{subject_id}/dti_pe0_ms103.nii.gz',\n",
    "               'bvec': raw_dir + '/{subject_id}/dti_pe0_ms103.bvec', \n",
    "               'bval': raw_dir + '/{subject_id}/dti_pe0_ms103.bval'}\n",
    "dwis_selectfiles = Node(SelectFiles(dwis_template), name='dwis_selectfiles')"
   ]
  },
  {
   "cell_type": "code",
   "execution_count": null,
   "metadata": {},
   "outputs": [],
   "source": [
    "## Unwarping nodes\n",
    "\n",
    "# include only the first volume of each PE volume\n",
    "trim_PEs = MapNode(Trim(end_index=1),name='trim_PEs',iterfield=['in_file'])\n",
    "\n",
    "# merge to 1 file for topup to calculate the fieldcoef\n",
    "merge_pes = Node(Merge(dimension='t',\n",
    "                       merged_file='merged_pes.nii.gz'),\n",
    "                 name='merge_pes')\n",
    "\n",
    "topup = Node(TOPUP(encoding_file=acq_file), name='topup')\n",
    "\n",
    "apply_topup = Node(ApplyTOPUP(in_index=[1], encoding_file=acq_file,\n",
    "                              method='jac', out_corrected='dti_unwarped.nii.gz'),\n",
    "                   name='apply_topup')\n",
    "\n",
    "trim_b0 = Node(Trim(end_index=1), name='trim_b0')\n",
    "\n",
    "coreg_template = Node(FLIRT(out_matrix_file='xform.mat', in_file=template, out_file='warped_template.nii.gz'), name='coreg_template')\n",
    "\n",
    "xfm_rois = Node(FLIRT(apply_xfm=True, in_file=rois, out_file='warped_rois.nii.gz',interp='nearestneighbour'), name='xfm_rois')"
   ]
  },
  {
   "cell_type": "code",
   "execution_count": null,
   "metadata": {},
   "outputs": [],
   "source": [
    "unwarpflow = Workflow(name='unwarpflow')\n",
    "unwarpflow.connect([(infosource,pes_selectfiles, [('subject_id','subject_id')]),\n",
    "                    (infosource,dwis_selectfiles, [('subject_id','subject_id')]),\n",
    "                    (pes_selectfiles, trim_PEs, [('PE_vol','in_file')]), \n",
    "                    (trim_PEs, merge_pes, [('out_file','in_files')]), \n",
    "                    (merge_pes, topup, [('merged_file','in_file')]), \n",
    "                    (topup, apply_topup, [('out_fieldcoef','in_topup_fieldcoef'), \n",
    "                                          ('out_movpar','in_topup_movpar')]),\n",
    "                    (dwis_selectfiles, apply_topup, [('dwi','in_files')]),\n",
    "                    (apply_topup, trim_b0, [('out_corrected','in_file')]),\n",
    "                    (trim_b0, coreg_template, [('out_file','reference')]),\n",
    "                    (trim_b0, xfm_rois, [('out_file','reference')]),\n",
    "                    (coreg_template, xfm_rois, [('out_matrix_file','in_matrix_file')]),\n",
    "                    \n",
    "                    (coreg_template, datasink, [('out_file','warped_template')]),\n",
    "                    (xfm_rois, datasink, [('out_file','warped_ROIs')]),\n",
    "                    (apply_topup, datasink, [('out_corrected','unwarped_dwi')]),\n",
    "                   ])\n",
    "\n",
    "unwarpflow.base_dir = workflow_dir\n",
    "#unwarpflow.write_graph(graph2use='flat')\n",
    "unwarpflow.run('MultiProc', plugin_args={'n_procs': 2, 'memory_gb':10})"
   ]
  }
 ],
 "metadata": {
  "kernelspec": {
   "display_name": "Python 3",
   "language": "python",
   "name": "python3"
  },
  "language_info": {
   "codemirror_mode": {
    "name": "ipython",
    "version": 3
   },
   "file_extension": ".py",
   "mimetype": "text/x-python",
   "name": "python",
   "nbconvert_exporter": "python",
   "pygments_lexer": "ipython3",
   "version": "3.7.2"
  }
 },
 "nbformat": 4,
 "nbformat_minor": 2
}
