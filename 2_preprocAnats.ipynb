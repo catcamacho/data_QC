{
 "cells": [
  {
   "cell_type": "code",
   "execution_count": null,
   "metadata": {},
   "outputs": [],
   "source": [
    "from nipype.interfaces.io import DataSink, SelectFiles, DataGrabber # Data i/o\n",
    "from nipype.interfaces.utility import IdentityInterface, Function     # utility\n",
    "from nipype.pipeline.engine import Node, Workflow, MapNode # pypeline engine\n",
    "from nipype.interfaces.ants import N4BiasFieldCorrection\n",
    "from nipype.interfaces.fsl import BET\n",
    "from pandas import DataFrame, Series\n",
    "\n",
    "#set output file type for FSL to NIFTI_GZ\n",
    "from nipype.interfaces.fsl.preprocess import FSLCommand\n",
    "FSLCommand.set_default_output_type('NIFTI_GZ')\n",
    "\n",
    "# Set study variables\n",
    "studyhome = '/home/camachocm2/Analysis/SEA/SEALab_Newborn_anats_090619'\n",
    "raw_dir = studyhome\n",
    "output_dir = studyhome + '/proc'\n",
    "workflow_dir = studyhome + '/workflows'\n",
    "\n",
    "subjects_list = ['9999']\n",
    "anat_type = 'T2w'"
   ]
  },
  {
   "cell_type": "code",
   "execution_count": null,
   "metadata": {},
   "outputs": [],
   "source": [
    "## File handling Nodes\n",
    "\n",
    "# Identity node- select subjects\n",
    "infosource = Node(IdentityInterface(fields=['subject_id']),\n",
    "                     name='infosource')\n",
    "infosource.iterables = ('subject_id', subjects_list)\n",
    "\n",
    "## File handling nodes\n",
    "\n",
    "template={'anat': raw_dir + '/%s/%s_T2w*.nii.gz'}\n",
    "selectfiles = Node(DataGrabber(sort_filelist=True,\n",
    "                               template = raw_dir + '/%s/%s_T2w*.nii.gz',\n",
    "                               field_template = template,\n",
    "                               base_directory=raw_dir,\n",
    "                               infields=['subject_id','subject_id2'],\n",
    "                               template_args={'anat':[['subject_id','subject_id2']]}),\n",
    "                   name='selectfiles')\n",
    "\n",
    "# Datasink- where our select outputs will go\n",
    "substitutions = [('_subject_id_', '')]\n",
    "datasink = Node(DataSink(), name='datasink')\n",
    "datasink.inputs.base_directory = output_dir\n",
    "datasink.inputs.container = output_dir\n",
    "datasink.inputs.substitutions = substitutions"
   ]
  },
  {
   "cell_type": "code",
   "execution_count": null,
   "metadata": {},
   "outputs": [],
   "source": [
    "n4biascorr = Node(N4BiasFieldCorrection(dimension=3,\n",
    "                                        output_image='{0}_nucorrect.nii.gz'.format(anat_type)), \n",
    "                  name='n4biascorr')\n",
    "\n",
    "skullstrip = Node(BET(out_file='{0}_nucorrect_strip.nii.gz'.format(anat_type)), name='skullstrip')"
   ]
  },
  {
   "cell_type": "code",
   "execution_count": null,
   "metadata": {},
   "outputs": [],
   "source": [
    "anat_preprocflow = Workflow(name='anat_preprocflow')\n",
    "anat_preprocflow.connect([(infosource,selectfiles, [('subject_id','subject_id')]),\n",
    "                          (infosource,selectfiles, [('subject_id','subject_id2')]),\n",
    "                          (selectfiles, n4biascorr, [('anat','input_image')]),\n",
    "                          (n4biascorr, skullstrip, [('output_image','in_file')]),\n",
    "                          \n",
    "                          (n4biascorr, datasink, [('output_image','nu_corrected_anat')]),\n",
    "                          (skullstrip, datasink, [('out_file','skullstripped_anat')])\n",
    "                         ])\n",
    "\n",
    "anat_preprocflow.base_dir = workflow_dir\n",
    "#anat_preprocflow.write_graph(graph2use='flat')\n",
    "anat_preprocflow.run('MultiProc', plugin_args={'n_procs': 2, 'memory_gb':10})"
   ]
  },
  {
   "cell_type": "code",
   "execution_count": null,
   "metadata": {},
   "outputs": [],
   "source": []
  }
 ],
 "metadata": {
  "kernelspec": {
   "display_name": "Python 3",
   "language": "python",
   "name": "python3"
  },
  "language_info": {
   "codemirror_mode": {
    "name": "ipython",
    "version": 3
   },
   "file_extension": ".py",
   "mimetype": "text/x-python",
   "name": "python",
   "nbconvert_exporter": "python",
   "pygments_lexer": "ipython3",
   "version": "3.5.2"
  }
 },
 "nbformat": 4,
 "nbformat_minor": 2
}
