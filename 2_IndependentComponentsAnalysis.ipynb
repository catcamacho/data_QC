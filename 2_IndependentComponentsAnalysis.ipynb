{
 "cells": [
  {
   "cell_type": "code",
   "execution_count": 1,
   "metadata": {},
   "outputs": [],
   "source": [
    "#import packages\n",
    "from os import listdir, makedirs\n",
    "from os.path import isdir\n",
    "from nipype.interfaces.io import DataSink, SelectFiles, DataGrabber # Data i/o\n",
    "from nipype.interfaces.utility import IdentityInterface, Function     # utility\n",
    "from nipype.pipeline.engine import Node, Workflow, MapNode        # pypeline engine\n",
    "\n",
    "from nipype.interfaces.fsl.model import GLM, MELODIC\n",
    "from pandas import DataFrame, Series\n",
    "\n",
    "#set output file type for FSL to NIFTI\n",
    "from nipype.interfaces.fsl.preprocess import FSLCommand\n",
    "FSLCommand.set_default_output_type('NIFTI_GZ')\n",
    "\n",
    "# MATLAB setup - Specify path to current SPM and the MATLAB's default mode\n",
    "from nipype.interfaces.matlab import MatlabCommand\n",
    "MatlabCommand.set_default_paths('~/spm12')\n",
    "MatlabCommand.set_default_matlab_cmd(\"matlab -nodesktop -nosplash\")\n",
    "\n",
    "# Set study variables\n",
    "setup='Cat'\n",
    "sample='newborn' #6mo or newborn\n",
    "\n",
    "if setup=='Marissa':\n",
    "    studyhome = '/oak/stanford/groups/iang/BABIES_data/BABIES_rest'\n",
    "    output_dir = studyhome + '/ica'\n",
    "    preproc_dir = studyhome + '/preproc'\n",
    "    workflow_dir = studyhome + '/workflows' \n",
    "    templates = '/Volumes/iang/BABIES_data/BABIES_rest/templates'\n",
    "elif setup=='Cat':\n",
    "    studyhome = '/home/camachocm2/Analysis/SEA/rest_proc'\n",
    "    output_dir = studyhome + '/ica'\n",
    "    preproc_dir = studyhome + '/preproc'\n",
    "    workflow_dir = studyhome + '/workflows'\n",
    "    templates = '/home/camachocm2/Analysis/SEA/templates'\n",
    "\n",
    "if sample =='6mo':\n",
    "    template_brain = templates + '/6mo_T2w_template_2mm.nii.gz'\n",
    "    template_wm = templates + '/6mo_T2w_template_2mm_wm.nii.gz'\n",
    "    template_mask = templates + '/6mo_T2w_template_2mm_mask.nii.gz'\n",
    "elif sample=='newborn':\n",
    "    template_brain = templates + '/neonate_T2w_template_2mm.nii.gz'\n",
    "    template_wm = templates + '/neonate_T2w_template_2mm_wm.nii.gz'\n",
    "    template_mask = templates + '/neonate_T2w_template_2mm_gm.nii.gz'\n",
    "\n",
    "\n",
    "#subjects_list = open(studyhome + '/misc/all_subjects.txt').read().splitlines()\n",
    "subjects_list = ['N1011']\n"
   ]
  },
  {
   "cell_type": "code",
   "execution_count": 2,
   "metadata": {},
   "outputs": [],
   "source": [
    "# Resting state preprocessing\n",
    "# Identity node- select subjects\n",
    "infosource = Node(IdentityInterface(fields=['subject_id']),\n",
    "                     name='infosource')\n",
    "infosource.iterables = ('subject_id', subjects_list)\n",
    "\n",
    "# Datasink- where our select outputs will go\n",
    "substitutions = [('_subject_id_', '')]\n",
    "datasink = Node(DataSink(), name='datasink')\n",
    "datasink.inputs.base_directory = output_dir\n",
    "datasink.inputs.container = output_dir\n",
    "datasink.inputs.substitutions = substitutions\n",
    "\n",
    "\n",
    "# Data grabber- select fMRI and sMRI\n",
    "templates = {'func': preproc_dir + '/proc_func/{subject_id}/func_filtered_smooth.nii.gz'}\n",
    "selectfiles = Node(SelectFiles(templates), name='selectfiles')\n",
    "\n",
    "ica = Node(MELODIC(approach='tica',num_ICs=25, no_bet=False, report=True, mask=template_mask), \n",
    "           name='ica')"
   ]
  },
  {
   "cell_type": "code",
   "execution_count": 3,
   "metadata": {},
   "outputs": [
    {
     "name": "stdout",
     "output_type": "stream",
     "text": [
      "190406-17:55:48,825 workflow INFO:\n",
      "\t Generated workflow graph: /home/camachocm2/Analysis/SEA/rest_proc/workflows/rs_ica/graph.png (graph2use=flat, simple_form=True).\n",
      "190406-17:55:48,857 workflow INFO:\n",
      "\t Workflow rs_ica settings: ['check', 'execution', 'logging', 'monitoring']\n",
      "190406-17:55:48,875 workflow INFO:\n",
      "\t Running in parallel.\n",
      "190406-17:55:48,879 workflow INFO:\n",
      "\t [MultiProc] Running 0 tasks, and 1 jobs ready. Free memory (GB): 56.55/56.55, Free processors: 2/2.\n",
      "190406-17:55:48,960 workflow INFO:\n",
      "\t [Node] Setting-up \"rs_ica.selectfiles\" in \"/home/camachocm2/Analysis/SEA/rest_proc/workflows/rs_ica/_subject_id_N1011/selectfiles\".\n",
      "190406-17:55:48,969 workflow INFO:\n",
      "\t [Node] Running \"selectfiles\" (\"nipype.interfaces.io.SelectFiles\")\n",
      "190406-17:55:48,978 workflow INFO:\n",
      "\t [Node] Finished \"rs_ica.selectfiles\".\n",
      "190406-17:55:50,881 workflow INFO:\n",
      "\t [Job 0] Completed (rs_ica.selectfiles).\n",
      "190406-17:55:50,886 workflow INFO:\n",
      "\t [MultiProc] Running 0 tasks, and 1 jobs ready. Free memory (GB): 56.55/56.55, Free processors: 2/2.\n",
      "190406-17:55:50,958 workflow INFO:\n",
      "\t [Node] Setting-up \"rs_ica.ica\" in \"/home/camachocm2/Analysis/SEA/rest_proc/workflows/rs_ica/_subject_id_N1011/ica\".\n",
      "190406-17:55:50,967 workflow INFO:\n",
      "\t [Node] Running \"ica\" (\"nipype.interfaces.fsl.model.MELODIC\"), a CommandLine Interface with command:\n",
      "melodic -i /home/camachocm2/Analysis/SEA/rest_proc/preproc/proc_func/N1011/func_filtered_smooth.nii.gz -a tica -m /home/camachocm2/Analysis/SEA/templates/neonate_T2w_template_2mm_gm.nii.gz -n 25 -o /home/camachocm2/Analysis/SEA/data_QC --report\n",
      "190406-17:55:52,884 workflow INFO:\n",
      "\t [MultiProc] Running 1 tasks, and 0 jobs ready. Free memory (GB): 56.35/56.55, Free processors: 1/2.\n",
      "                     Currently running:\n",
      "                       * rs_ica.ica\n",
      "190406-18:09:52,646 workflow INFO:\n",
      "\t [Node] Finished \"rs_ica.ica\".\n",
      "190406-18:09:53,759 workflow INFO:\n",
      "\t [Job 1] Completed (rs_ica.ica).\n",
      "190406-18:09:53,764 workflow INFO:\n",
      "\t [MultiProc] Running 0 tasks, and 1 jobs ready. Free memory (GB): 56.55/56.55, Free processors: 2/2.\n",
      "190406-18:09:53,835 workflow INFO:\n",
      "\t [Node] Setting-up \"rs_ica.datasink\" in \"/home/camachocm2/Analysis/SEA/rest_proc/workflows/rs_ica/_subject_id_N1011/datasink\".\n",
      "190406-18:09:53,846 workflow INFO:\n",
      "\t [Node] Running \"datasink\" (\"nipype.interfaces.io.DataSink\")\n",
      "190406-18:09:53,851 interface INFO:\n",
      "\t sub: /home/camachocm2/Analysis/SEA/rest_proc/preproc/rest_ica_out/_subject_id_N1011/ica -> /home/camachocm2/Analysis/SEA/rest_proc/preproc/rest_ica_out/N1011/ica\n",
      "190406-18:09:55,203 workflow INFO:\n",
      "\t [Node] Finished \"rs_ica.datasink\".\n",
      "190406-18:09:55,761 workflow INFO:\n",
      "\t [Job 2] Completed (rs_ica.datasink).\n",
      "190406-18:09:55,765 workflow INFO:\n",
      "\t [MultiProc] Running 0 tasks, and 0 jobs ready. Free memory (GB): 56.55/56.55, Free processors: 2/2.\n"
     ]
    },
    {
     "data": {
      "text/plain": [
       "<networkx.classes.digraph.DiGraph at 0x7f5d22e79208>"
      ]
     },
     "execution_count": 3,
     "metadata": {},
     "output_type": "execute_result"
    }
   ],
   "source": [
    "rs_ica = Workflow(name='rs_ica')\n",
    "rs_ica.connect([(infosource,selectfiles,[('subject_id','subject_id')]),\n",
    "                (selectfiles,ica,[('func','in_files')]),\n",
    "                (ica, datasink, [('out_dir','rest_ica_out')])\n",
    "               ])\n",
    "\n",
    "rs_ica.base_dir = workflow_dir\n",
    "rs_ica.write_graph(graph2use='flat')\n",
    "rs_ica.run('MultiProc', plugin_args={'n_procs': 2})"
   ]
  },
  {
   "cell_type": "code",
   "execution_count": null,
   "metadata": {},
   "outputs": [],
   "source": []
  }
 ],
 "metadata": {
  "kernelspec": {
   "display_name": "Python 3",
   "language": "python",
   "name": "python3"
  },
  "language_info": {
   "codemirror_mode": {
    "name": "ipython",
    "version": 3
   },
   "file_extension": ".py",
   "mimetype": "text/x-python",
   "name": "python",
   "nbconvert_exporter": "python",
   "pygments_lexer": "ipython3",
   "version": "3.5.2"
  }
 },
 "nbformat": 4,
 "nbformat_minor": 2
}
