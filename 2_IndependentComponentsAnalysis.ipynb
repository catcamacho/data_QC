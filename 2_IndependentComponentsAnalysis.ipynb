{
 "cells": [
  {
   "cell_type": "code",
   "execution_count": null,
   "metadata": {},
   "outputs": [],
   "source": [
    "#import packages\n",
    "from os import listdir, makedirs\n",
    "from os.path import isdir\n",
    "from nipype.interfaces.io import DataSink, SelectFiles, DataGrabber # Data i/o\n",
    "from nipype.interfaces.utility import IdentityInterface, Function     # utility\n",
    "from nipype.pipeline.engine import Node, Workflow, MapNode        # pypeline engine\n",
    "\n",
    "from nipype.interfaces.fsl.model import GLM, MELODIC\n",
    "from pandas import DataFrame, Series\n",
    "\n",
    "#set output file type for FSL to NIFTI\n",
    "from nipype.interfaces.fsl.preprocess import FSLCommand\n",
    "FSLCommand.set_default_output_type('NIFTI_GZ')\n",
    "\n",
    "# MATLAB setup - Specify path to current SPM and the MATLAB's default mode\n",
    "from nipype.interfaces.matlab import MatlabCommand\n",
    "MatlabCommand.set_default_paths('~/spm12')\n",
    "MatlabCommand.set_default_matlab_cmd(\"matlab -nodesktop -nosplash\")\n",
    "\n",
    "# Set study variables\n",
    "setup='Cat'\n",
    "sample='newborn' #6mo or newborn\n",
    "\n",
    "if setup=='Marissa':\n",
    "    studyhome = '/oak/stanford/groups/iang/BABIES_data/BABIES_rest'\n",
    "    raw_data = studyhome + '/subjDir/all/'\n",
    "    output_dir = studyhome + '/processed/preproc'\n",
    "    workflow_dir = studyhome + '/workflows' \n",
    "    templates = '/Volumes/iang/BABIES_data/BABIES_rest/templates'\n",
    "elif setup=='Cat':\n",
    "    studyhome = '/home/camachocm2/Analysis/SEA/rest_proc'\n",
    "    raw_data = studyhome + '/raw'\n",
    "    output_dir = studyhome + '/preproc'\n",
    "    workflow_dir = studyhome + '/workflows'\n",
    "    templates = '/home/camachocm2/Analysis/SEA/templates'\n",
    "\n",
    "if sample =='6mo':\n",
    "    template_brain = templates + '/6mo_T2w_template_2mm.nii.gz'\n",
    "    template_wm = templates + '/6mo_T2w_template_2mm_wm.nii.gz'\n",
    "    template_mask = templates + '/6mo_T2w_template_2mm_mask.nii.gz'\n",
    "elif sample=='newborn':\n",
    "    template_brain = templates + '/neonate_T2w_template_2mm.nii.gz'\n",
    "    template_wm = templates + '/neonate_T2w_template_2mm_wm.nii.gz'\n",
    "    template_mask = templates + '/neonate_T2w_template_2mm_gm.nii.gz'\n",
    "\n",
    "\n",
    "#subjects_list = open(studyhome + '/misc/all_subjects.txt').read().splitlines()\n",
    "subjects_list = ['SEA-999-NB']\n"
   ]
  },
  {
   "cell_type": "code",
   "execution_count": null,
   "metadata": {},
   "outputs": [],
   "source": [
    "# Resting state preprocessing\n",
    "# Identity node- select subjects\n",
    "infosource = Node(IdentityInterface(fields=['subject_id']),\n",
    "                     name='infosource')\n",
    "infosource.iterables = ('subject_id', subjects_list)\n",
    "\n",
    "# Datasink- where our select outputs will go\n",
    "substitutions = [('_subject_id_', '')]\n",
    "datasink = Node(DataSink(), name='datasink')\n",
    "datasink.inputs.base_directory = output_dir\n",
    "datasink.inputs.container = output_dir\n",
    "datasink.inputs.substitutions = substitutions\n",
    "\n",
    "\n",
    "# Data grabber- select fMRI and sMRI\n",
    "templates = {'func': output_dir + '/proc_func/{subject_id}/func_filtered_smooth.nii.gz'}\n",
    "selectfiles = Node(SelectFiles(templates), name='selectfiles')\n",
    "\n",
    "ica = Node(MELODIC(approach='tica',num_ICs=25, no_bet=False, report=True, mask=template_mask), \n",
    "           name='ica')"
   ]
  },
  {
   "cell_type": "code",
   "execution_count": null,
   "metadata": {},
   "outputs": [],
   "source": [
    "rs_ica = Workflow(name='rs_ica')\n",
    "rs_ica.connect([(infosource,selectfiles,[('subject_id','subject_id')]),\n",
    "                (selectfiles,ica,[('func','in_files')]),\n",
    "                (ica, datasink, [('out_dir','rest_ica_out')])\n",
    "               ])\n",
    "\n",
    "rs_ica.base_dir = workflow_dir\n",
    "rs_ica.write_graph(graph2use='flat')\n",
    "rs_ica.run('MultiProc', plugin_args={'n_procs': 2})"
   ]
  },
  {
   "cell_type": "code",
   "execution_count": null,
   "metadata": {},
   "outputs": [],
   "source": []
  }
 ],
 "metadata": {
  "kernelspec": {
   "display_name": "Python 3",
   "language": "python",
   "name": "python3"
  },
  "language_info": {
   "codemirror_mode": {
    "name": "ipython",
    "version": 3
   },
   "file_extension": ".py",
   "mimetype": "text/x-python",
   "name": "python",
   "nbconvert_exporter": "python",
   "pygments_lexer": "ipython3",
   "version": "3.5.2"
  }
 },
 "nbformat": 4,
 "nbformat_minor": 2
}
